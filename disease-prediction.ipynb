{
  "cells": [
    {
      "cell_type": "code",
      "execution_count": null,
      "metadata": {
        "id": "6VFd0gy047UP"
      },
      "outputs": [],
      "source": [
        "import pandas as pd\n",
        "import numpy as np\n",
        "import matplotlib.pyplot as plt"
      ]
    },
    {
      "cell_type": "code",
      "execution_count": null,
      "metadata": {
        "colab": {
          "base_uri": "https://localhost:8080/"
        },
        "id": "_ywGFfI_47MB",
        "outputId": "b672af6e-6a1f-44e2-8a2e-b2c9630e972b"
      },
      "outputs": [
        {
          "name": "stdout",
          "output_type": "stream",
          "text": [
            "Mounted at /content/drive\n"
          ]
        }
      ],
      "source": [
        "from google.colab import drive\n",
        "drive.mount(\"/content/drive\")"
      ]
    },
    {
      "cell_type": "code",
      "execution_count": null,
      "metadata": {
        "colab": {
          "base_uri": "https://localhost:8080/",
          "height": 1000
        },
        "id": "UwXpcIbKqeLW",
        "outputId": "51e6440c-8c1c-4661-f3fc-dd28495d2048"
      },
      "outputs": [
        {
          "name": "stdout",
          "output_type": "stream",
          "text": [
            "Patient ID and Diagnosis from the Training Dataset:\n",
            "      patient_id  diagnosis\n",
            "0              1          0\n",
            "1              2          0\n",
            "2              3          0\n",
            "3              7          0\n",
            "4              8          0\n",
            "...          ...        ...\n",
            "3995        4996          0\n",
            "3996        4997          0\n",
            "3997        4998          0\n",
            "3998        4999          0\n",
            "3999        5000          0\n",
            "\n",
            "[4000 rows x 2 columns]\n"
          ]
        },
        {
          "data": {
            "image/png": "[encoded data removed]",
            "text/plain": [
              "<Figure size 640x480 with 1 Axes>"
            ]
          },
          "metadata": {},
          "output_type": "display_data"
        },
        {
          "name": "stdout",
          "output_type": "stream",
          "text": [
            "Fitting 3 folds for each of 216 candidates, totalling 648 fits\n",
            "Best parameters found: {'bootstrap': False, 'max_depth': None, 'min_samples_leaf': 1, 'min_samples_split': 2, 'n_estimators': 300}\n",
            " ROC-AUC Score with Optimized RandomForestClassifier: 0.9776341055714424\n",
            "Accuracy: 0.9776609724047306\n",
            "Precision: 0.9813333333333333\n",
            "Recall: 0.9735449735449735\n",
            "F1 Score: 0.9774236387782205\n",
            "Confusion Matrix: \n",
            "[[752  14]\n",
            " [ 20 736]]\n",
            "\n",
            "Validation Actual vs Predicted:\n",
            "      actual  predicted\n",
            "2644       0          0\n",
            "2227       0          0\n",
            "5698       1          1\n",
            "132        0          0\n",
            "3172       0          0\n",
            "\n",
            "Test Predictions:\n",
            "   patient_id  prediction\n",
            "0           4           0\n",
            "1           5           0\n",
            "2           6           0\n",
            "3          10           0\n",
            "4          12           0\n",
            "File saved successfully at: /content/drive/MyDrive/SE22UCSE187_predictions.csv\n"
          ]
        }
      ],
      "source": [
        "import pandas as pd\n",
        "import numpy as np\n",
        "from sklearn.ensemble import RandomForestClassifier\n",
        "from sklearn.model_selection import train_test_split, GridSearchCV\n",
        "from sklearn.preprocessing import StandardScaler\n",
        "from sklearn.metrics import roc_auc_score, confusion_matrix, accuracy_score, precision_score, recall_score, f1_score\n",
        "import matplotlib.pyplot as plt\n",
        "import os\n",
        "from imblearn.over_sampling import BorderlineSMOTE\n",
        "\n",
        "# Load your datasets\n",
        "train_df = pd.read_csv(\"/content/drive/MyDrive/Colab Notebooks/Disease_train.csv\")\n",
        "test_df = pd.read_csv('/content/drive/MyDrive/Colab Notebooks/Disease_test.csv')\n",
        "\n",
        "# Print all the values of patient_id and diagnosis from the training dataset\n",
        "print(\"Patient ID and Diagnosis from the Training Dataset:\")\n",
        "print(train_df[['patient_id', 'diagnosis']])\n",
        "\n",
        "# Visualize the distribution of the target variable\n",
        "plt.hist(train_df['diagnosis'], bins=20)\n",
        "plt.title('Distribution of Target Variable')\n",
        "plt.xlabel('Diagnosis')\n",
        "plt.ylabel('Frequency')\n",
        "plt.show()\n",
        "\n",
        "# Extract features and target from training data\n",
        "X = train_df.drop(['patient_id', 'diagnosis'], axis=1)\n",
        "y = train_df['diagnosis']\n",
        "\n",
        "# Drop 'patient_id' from test set\n",
        "X_test = test_df.drop('patient_id', axis=1)\n",
        "\n",
        "# Standard scaling\n",
        "scaler = StandardScaler()\n",
        "X_train_scaled = scaler.fit_transform(X)\n",
        "X_test_scaled = scaler.transform(X_test)\n",
        "\n",
        "# Apply BorderlineSMOTE to handle class imbalance\n",
        "borderline_smote = BorderlineSMOTE(random_state=42)\n",
        "X_resampled, y_resampled = borderline_smote.fit_resample(X_train_scaled, y)\n",
        "\n",
        "# Split the resampled data into training and validation sets\n",
        "X_train, X_val, y_train, y_val = train_test_split(X_resampled, y_resampled, test_size=0.2, random_state=42)\n",
        "\n",
        "# Set the parameter grid for hyperparameter tuning\n",
        "param_grid = {\n",
        "    'n_estimators': [100, 200, 300],\n",
        "    'max_depth': [None, 10, 20, 30],\n",
        "    'min_samples_split': [2, 5, 10],\n",
        "    'min_samples_leaf': [1, 2, 4],\n",
        "    'bootstrap': [True, False]\n",
        "}\n",
        "\n",
        "# Initialize the RandomForestClassifier\n",
        "rf_model = RandomForestClassifier(random_state=42)\n",
        "\n",
        "# Initialize the GridSearchCV object\n",
        "grid_search = GridSearchCV(estimator=rf_model, param_grid=param_grid, cv=3, scoring='roc_auc', n_jobs=-1, verbose=2)\n",
        "\n",
        "# Fit the grid search to the data\n",
        "grid_search.fit(X_train, y_train)\n",
        "\n",
        "# Get the best parameters from the grid search\n",
        "best_params = grid_search.best_params_\n",
        "print(f\"Best parameters found: {best_params}\")\n",
        "\n",
        "# Initialize and train the optimized RandomForestClassifier\n",
        "optimized_rf_model = RandomForestClassifier(**best_params, random_state=42)\n",
        "optimized_rf_model.fit(X_train, y_train)\n",
        "\n",
        "# Evaluate the optimized model on the validation set\n",
        "y_val_pred = optimized_rf_model.predict(X_val)\n",
        "roc_auc = roc_auc_score(y_val, y_val_pred)\n",
        "print(f' ROC-AUC Score with Optimized RandomForestClassifier: {roc_auc}')\n",
        "\n",
        "# Calculate other metrics\n",
        "accuracy = accuracy_score(y_val, y_val_pred)\n",
        "precision = precision_score(y_val, y_val_pred)\n",
        "recall = recall_score(y_val, y_val_pred)\n",
        "f1 = f1_score(y_val, y_val_pred)\n",
        "conf_matrix = confusion_matrix(y_val, y_val_pred)\n",
        "\n",
        "# Print the metrics\n",
        "print(f'Accuracy: {accuracy}')\n",
        "print(f'Precision: {precision}')\n",
        "print(f'Recall: {recall}')\n",
        "print(f'F1 Score: {f1}')\n",
        "print(f'Confusion Matrix: \\n{conf_matrix}')\n",
        "\n",
        "# Create a DataFrame with actual and predicted values\n",
        "validation_results = pd.DataFrame({\n",
        "    'actual': y_val,\n",
        "    'predicted': y_val_pred\n",
        "})\n",
        "\n",
        "# Print the DataFrame\n",
        "print(\"\\nValidation Actual vs Predicted:\")\n",
        "print(validation_results.head())\n",
        "\n",
        "# Make predictions on the test dataset\n",
        "test_predictions = optimized_rf_model.predict(X_test_scaled)\n",
        "\n",
        "# Create a DataFrame with the predictions\n",
        "predictions_df = pd.DataFrame({\n",
        "    'patient_id': test_df['patient_id'],\n",
        "    'prediction': test_predictions\n",
        "})\n",
        "\n",
        "# Print the predictions\n",
        "print(\"\\nTest Predictions:\")\n",
        "print(predictions_df.head())\n",
        "\n",
        "# Save the predictions to a CSV file\n",
        "output_path = '/content/drive/MyDrive/SE22UCSE187_predictions.csv'\n",
        "predictions_df.to_csv(output_path, index=False)\n",
        "\n",
        "# Confirm the file is saved\n",
        "if os.path.exists(output_path):\n",
        "    print(f\"File saved successfully at: {output_path}\")\n",
        "else:\n",
        "    print(\"File not found.\")"
      ]
    },
    {
      "cell_type": "code",
      "execution_count": null,
      "metadata": {
        "colab": {
          "base_uri": "https://localhost:8080/",
          "height": 17
        },
        "id": "Di6deD4MqhU0",
        "outputId": "2f1e7a71-234f-4e0d-a4d1-35bded43d3fa"
      },
      "outputs": [
        {
          "data": {
            "application/javascript": "\n    async function download(id, filename, size) {\n      if (!google.colab.kernel.accessAllowed) {\n        return;\n      }\n      const div = document.createElement('div');\n      const label = document.createElement('label');\n      label.textContent = `Downloading \"${filename}\": `;\n      div.appendChild(label);\n      const progress = document.createElement('progress');\n      progress.max = size;\n      div.appendChild(progress);\n      document.body.appendChild(div);\n\n      const buffers = [];\n      let downloaded = 0;\n\n      const channel = await google.colab.kernel.comms.open(id);\n      // Send a message to notify the kernel that we're ready.\n      channel.send({})\n\n      for await (const message of channel.messages) {\n        // Send a message to notify the kernel that we're ready.\n        channel.send({})\n        if (message.buffers) {\n          for (const buffer of message.buffers) {\n            buffers.push(buffer);\n            downloaded += buffer.byteLength;\n            progress.value = downloaded;\n          }\n        }\n      }\n      const blob = new Blob(buffers, {type: 'application/binary'});\n      const a = document.createElement('a');\n      a.href = window.URL.createObjectURL(blob);\n      a.download = filename;\n      div.appendChild(a);\n      a.click();\n      div.remove();\n    }\n  ",
            "text/plain": [
              "<IPython.core.display.Javascript object>"
            ]
          },
          "metadata": {},
          "output_type": "display_data"
        },
        {
          "data": {
            "application/javascript": "download(\"download_8ed4856d-4d33-47d1-9cc5-9e9ba188b34c\", \"SE22UCSE187_predictions.csv\", 6822)",
            "text/plain": [
              "<IPython.core.display.Javascript object>"
            ]
          },
          "metadata": {},
          "output_type": "display_data"
        }
      ],
      "source": [
        "from google.colab import files\n",
        "\n",
        "# Download the file\n",
        "files.download(output_path)"
      ]
    },
    {
      "cell_type": "code",
      "execution_count": null,
      "metadata": {
        "colab": {
          "base_uri": "https://localhost:8080/"
        },
        "id": "eNmK9w9bMPlW",
        "outputId": "e6491327-7f0e-4290-900c-e35e1419d4fc"
      },
      "outputs": [
        {
          "name": "stdout",
          "output_type": "stream",
          "text": [
            "\n",
            "Cross-Validation Results:\n",
            "Accuracy: 0.9482 ± 0.0111\n",
            "Precision: 0.9287 ± 0.0173\n",
            "Recall: 0.9713 ± 0.0037\n",
            "F1 Score: 0.9495 ± 0.0103\n",
            "ROC-AUC: 0.9482 ± 0.0111\n",
            "\n",
            "Predictions saved to: /content/drive/MyDrive/SE22UCSE193_predictions.csv\n"
          ]
        }
      ],
      "source": [
        "import pandas as pd\n",
        "import numpy as np\n",
        "from sklearn.ensemble import RandomForestClassifier\n",
        "from sklearn.model_selection import cross_validate, StratifiedKFold\n",
        "from sklearn.preprocessing import StandardScaler\n",
        "from imblearn.over_sampling import BorderlineSMOTE\n",
        "from sklearn.metrics import accuracy_score, precision_score, recall_score, f1_score, roc_auc_score\n",
        "from sklearn.metrics import accuracy_score, precision_score, recall_score, f1_score, roc_auc_score, make_scorer\n",
        "\n",
        "# 1. Load and Prepare Data\n",
        "train_data = pd.read_csv(\"/content/drive/MyDrive/Colab Notebooks/Disease_train.csv\")\n",
        "test_data = pd.read_csv('/content/drive/MyDrive/Colab Notebooks/Disease_test.csv')\n",
        "\n",
        "# Separate features and target\n",
        "features = train_data.drop(columns=['patient_id', 'diagnosis'])\n",
        "labels = train_data['diagnosis']\n",
        "\n",
        "# Standardize features for better model performance\n",
        "feature_scaler = StandardScaler()\n",
        "scaled_features = feature_scaler.fit_transform(features)\n",
        "\n",
        "# Apply Borderline SMOTE for handling class imbalance\n",
        "oversampler = BorderlineSMOTE(random_state=42, kind=\"borderline-1\")\n",
        "features_oversampled, labels_oversampled = oversampler.fit_resample(scaled_features, labels)\n",
        "\n",
        "# Prepare testing data (scaling only, no oversampling)\n",
        "test_features = test_data.drop(columns=['patient_id'])\n",
        "test_features_scaled = feature_scaler.transform(test_features)\n",
        "\n",
        "# 2. Model Selection and Cross-Validation\n",
        "\n",
        "# Use optimized hyperparameters (obtained from GridSearchCV or similar)\n",
        "optimized_parameters = {\n",
        "    'n_estimators': 200,\n",
        "    'max_depth': 20,\n",
        "    'min_samples_split': 2,\n",
        "    'min_samples_leaf': 1,\n",
        "    'bootstrap': False\n",
        "}\n",
        "clf = RandomForestClassifier(**optimized_parameters, random_state=42)\n",
        "\n",
        "# Define evaluation metrics for cross-validation\n",
        "scoring_metrics = {\n",
        "    'Accuracy': make_scorer(accuracy_score),\n",
        "    'Precision': make_scorer(precision_score),\n",
        "    'Recall': make_scorer(recall_score),\n",
        "    'F1 Score': make_scorer(f1_score),\n",
        "    'ROC-AUC': make_scorer(roc_auc_score)\n",
        "}\n",
        "\n",
        "# Perform cross-validation\n",
        "cv = StratifiedKFold(n_splits=5, shuffle=True, random_state=42)\n",
        "cv_scores = cross_validate(clf, features_oversampled, labels_oversampled, cv=cv, scoring=scoring_metrics)\n",
        "\n",
        "# 3. Display Cross-Validation Results\n",
        "print(\"\\nCross-Validation Results:\")\n",
        "for metric, values in cv_scores.items():\n",
        "    if metric.startswith('test_'):\n",
        "        metric_name = metric.replace('test_', '')  # Make the name more readable\n",
        "        print(f\"{metric_name}: {np.mean(values):.4f} ± {np.std(values):.4f}\")\n",
        "\n",
        "# 4. Final Model Training and Prediction\n",
        "final_model = RandomForestClassifier(**optimized_parameters, random_state=42)\n",
        "final_model.fit(features_oversampled, labels_oversampled)\n",
        "\n",
        "# Make predictions on the test set\n",
        "test_predictions = final_model.predict(test_features_scaled)\n",
        "\n",
        "# 5. Prepare and Save Results\n",
        "results_df = pd.DataFrame({'patient_id': test_data['patient_id'], 'prediction': test_predictions})\n",
        "\n",
        "# Save the predictions to a CSV file\n",
        "output_filename = 'predictions.csv'\n",
        "output_path = os.path.join('/content/drive/MyDrive/', output_filename)\n",
        "results_df.to_csv(output_path, index=False)\n",
        "\n",
        "print(f\"\\nPredictions saved to: {output_path}\")\n"
      ]
    }
  ],
  "metadata": {
    "colab": {
      "provenance": []
    },
    "kernelspec": {
      "display_name": "Python 3",
      "name": "python3"
    },
    "language_info": {
      "name": "python"
    }
  },
  "nbformat": 4,
  "nbformat_minor": 0
}
